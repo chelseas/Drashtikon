{
 "cells": [
  {
   "cell_type": "code",
   "execution_count": 17,
   "metadata": {
    "collapsed": false
   },
   "outputs": [],
   "source": [
    "import numpy as np\n",
    "from sklearn.metrics import f1_score\n",
    "from sklearn.metrics import confusion_matrix\n",
    "import os\n",
    "import csv\n",
    "\n",
    "# path1 = os.path.abspath('f1data/hog')\n",
    "# path2 = os.path.abspath('f1data/croppedhog')\n",
    "# path3 = os.path.abspath('f1data/pcacroppedhog')\n",
    "\n",
    "FOLDERS = ['f1data/hog', 'f1data/croppedhog', 'f1data/pcacroppedhog', 'f1data/pcahog']\n",
    "\n",
    "with open('f1output.csv', 'wb') as csvout:\n",
    "    writer = csv.writer(csvout, delimiter=',',quotechar='|',quoting=csv.QUOTE_MINIMAL)\n",
    "    writer.writerow(('model', 'feature', 'microf1', 'macrof1', 'weightedf1'))\n",
    "    for f in FOLDERS:\n",
    "        path = os.path.abspath(f)\n",
    "        for name in os.listdir(path):\n",
    "            csvfile = os.path.abspath(os.path.join(f,name))\n",
    "            my_data = np.genfromtxt(csvfile, delimiter=',')\n",
    "            true = []\n",
    "            pred = []\n",
    "            for i in range(5):\n",
    "                for j in range(5):\n",
    "                    n = int(my_data[i,j])\n",
    "                    true = true + [i]*n\n",
    "                    pred = pred + [j]*n\n",
    "            assert(np.array_equal(my_data, confusion_matrix(true, pred)))\n",
    "            micro_f1 = round(f1_score(true, pred, average='micro'),3)\n",
    "            macro_f1 = round(f1_score(true, pred, average='macro'),3)\n",
    "            weighted_f1 = round(f1_score(true, pred, average='weighted'),3)\n",
    "            writer.writerow((name, f, micro_f1, macro_f1, weighted_f1))"
   ]
  },
  {
   "cell_type": "code",
   "execution_count": null,
   "metadata": {
    "collapsed": true
   },
   "outputs": [],
   "source": []
  },
  {
   "cell_type": "code",
   "execution_count": null,
   "metadata": {
    "collapsed": true
   },
   "outputs": [],
   "source": []
  }
 ],
 "metadata": {
  "kernelspec": {
   "display_name": "Python [conda env:python2.7]",
   "language": "python",
   "name": "conda-env-python2.7-py"
  },
  "language_info": {
   "codemirror_mode": {
    "name": "ipython",
    "version": 2
   },
   "file_extension": ".py",
   "mimetype": "text/x-python",
   "name": "python",
   "nbconvert_exporter": "python",
   "pygments_lexer": "ipython2",
   "version": "2.7.12"
  }
 },
 "nbformat": 4,
 "nbformat_minor": 1
}
